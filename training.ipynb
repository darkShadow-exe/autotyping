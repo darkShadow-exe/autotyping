{
 "cells": [
  {
   "cell_type": "markdown",
   "id": "7935b7dd",
   "metadata": {},
   "source": [
    "# AutoTyping"
   ]
  },
  {
   "cell_type": "markdown",
   "id": "9ff3d005",
   "metadata": {},
   "source": [
    "## Libraries"
   ]
  },
  {
   "cell_type": "markdown",
   "id": "e4e94822",
   "metadata": {},
   "source": [
    "# Dataset"
   ]
  },
  {
   "cell_type": "code",
   "execution_count": 1,
   "id": "9dce4479",
   "metadata": {},
   "outputs": [
    {
     "name": "stdout",
     "output_type": "stream",
     "text": [
      "Downloading...\n",
      "Download complete.\n",
      "Extracting...\n",
      "Extraction complete. Files are in '/tmp/Keystrokes'\n"
     ]
    }
   ],
   "source": [
    "import urllib.request\n",
    "import zipfile\n",
    "import os\n",
    "\n",
    "# Use /tmp for storage\n",
    "zip_path = \"/tmp/Keystrokes.zip\"\n",
    "extract_dir = \"/tmp/Keystrokes\"\n",
    "\n",
    "# Download the file\n",
    "print(\"Downloading...\")\n",
    "urllib.request.urlretrieve(\"https://userinterfaces.aalto.fi/136Mkeystrokes/data/Keystrokes.zip\", zip_path)\n",
    "print(\"Download complete.\")\n",
    "\n",
    "# Extract the file\n",
    "print(\"Extracting...\")\n",
    "with zipfile.ZipFile(zip_path, 'r') as zip_ref:\n",
    "    zip_ref.extractall(extract_dir)\n",
    "print(f\"Extraction complete. Files are in '{extract_dir}'\")\n"
   ]
  },
  {
   "cell_type": "code",
   "execution_count": 9,
   "id": "5686a8d5",
   "metadata": {},
   "outputs": [],
   "source": [
    "import pandas as pd\n",
    "\n",
    "df = pd.read_csv(\"/tmp/Keystrokes/Keystrokes/files/23_keystrokes.txt\", sep='\\t')\n",
    "\n",
    "# Calculate hold time per keystroke\n",
    "df['hold_time'] = df['RELEASE_TIME'] - df['PRESS_TIME']\n",
    "\n",
    "# Calculate IKI (inter-key interval)\n",
    "df['iki'] = df['PRESS_TIME'].diff().fillna(0)\n"
   ]
  }
 ],
 "metadata": {
  "kernelspec": {
   "display_name": ".venv",
   "language": "python",
   "name": "python3"
  },
  "language_info": {
   "codemirror_mode": {
    "name": "ipython",
    "version": 3
   },
   "file_extension": ".py",
   "mimetype": "text/x-python",
   "name": "python",
   "nbconvert_exporter": "python",
   "pygments_lexer": "ipython3",
   "version": "3.12.1"
  }
 },
 "nbformat": 4,
 "nbformat_minor": 5
}
